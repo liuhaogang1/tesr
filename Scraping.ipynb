{
 "cells": [
  {
   "cell_type": "code",
   "execution_count": 1,
   "id": "0cba192c-1bae-4f01-bd36-cb63a0a6dee6",
   "metadata": {},
   "outputs": [
    {
     "name": "stdout",
     "output_type": "stream",
     "text": [
      "Data saved to 'nodejs_cve_data.csv'. Total records fetched: 415\n"
     ]
    }
   ],
   "source": [
    "import requests\n",
    "from bs4 import BeautifulSoup\n",
    "import time\n",
    "import csv\n",
    "from random import randint\n",
    "from fake_useragent import UserAgent\n",
    "\n",
    "# 设置UserAgent，避免被反爬虫机制阻止\n",
    "ua = UserAgent()\n",
    "headers = {\n",
    "    \"User-Agent\": ua.random,\n",
    "}\n",
    "\n",
    "# 定义爬取函数，抓取页面的数据\n",
    "def fetch_cve_data():\n",
    "    url = \"https://cve.mitre.org/cgi-bin/cvekey.cgi?keyword=Node.js\"  # 正确的URL\n",
    "    response = requests.get(url, headers=headers)\n",
    "    \n",
    "    if response.status_code != 200:\n",
    "        print(\"Failed to retrieve data\")\n",
    "        return None\n",
    "    \n",
    "    # 使用BeautifulSoup解析页面内容\n",
    "    soup = BeautifulSoup(response.text, 'html.parser')\n",
    "    \n",
    "    # 获取漏洞列表\n",
    "    cve_entries = soup.find_all('tr')[1:]  # 第一个<tr>是表头，不需要抓取\n",
    "    \n",
    "    cve_data = []\n",
    "    \n",
    "    # 遍历每一行，提取漏洞名称和描述\n",
    "    for entry in cve_entries:\n",
    "        td_tags = entry.find_all('td')\n",
    "        \n",
    "        # 确保每行有足够的<td>标签\n",
    "        if len(td_tags) >= 2:\n",
    "            name_tag = entry.find('a', {'href': True})  # 获取CVE ID\n",
    "            description_tag = td_tags[1]  # 获取漏洞描述\n",
    "\n",
    "            if name_tag and description_tag:\n",
    "                name = name_tag.text.strip()\n",
    "                description = description_tag.text.strip()\n",
    "                cve_data.append({\"Name\": name, \"Description\": description})\n",
    "    \n",
    "    return cve_data\n",
    "\n",
    "# 定义主程序，爬取数据并保存\n",
    "def main():\n",
    "    all_cve_data = []\n",
    "\n",
    "    # 获取页面的漏洞数据\n",
    "    cve_data = fetch_cve_data()\n",
    "    \n",
    "    if cve_data:\n",
    "        all_cve_data.extend(cve_data)\n",
    "    \n",
    "    # 存储数据到CSV文件\n",
    "    with open('nodejs_cve_data.csv', 'w', newline='', encoding='utf-8') as file:\n",
    "        writer = csv.DictWriter(file, fieldnames=[\"Name\", \"Description\"])\n",
    "        writer.writeheader()\n",
    "        writer.writerows(all_cve_data)\n",
    "\n",
    "    print(f\"Data saved to 'nodejs_cve_data.csv'. Total records fetched: {len(all_cve_data)}\")\n",
    "\n",
    "if __name__ == \"__main__\":\n",
    "    main()\n"
   ]
  },
  {
   "cell_type": "code",
   "execution_count": null,
   "id": "fe30e6a4-2ccc-41b0-bfdc-b2a9d0fb46af",
   "metadata": {},
   "outputs": [],
   "source": []
  }
 ],
 "metadata": {
  "kernelspec": {
   "display_name": "Python 3 (ipykernel)",
   "language": "python",
   "name": "python3"
  },
  "language_info": {
   "codemirror_mode": {
    "name": "ipython",
    "version": 3
   },
   "file_extension": ".py",
   "mimetype": "text/x-python",
   "name": "python",
   "nbconvert_exporter": "python",
   "pygments_lexer": "ipython3",
   "version": "3.11.5"
  }
 },
 "nbformat": 4,
 "nbformat_minor": 5
}
